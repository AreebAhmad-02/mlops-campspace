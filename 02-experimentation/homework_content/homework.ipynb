{
 "cells": [
  {
   "cell_type": "code",
   "execution_count": null,
   "id": "12245e1a",
   "metadata": {},
   "outputs": [],
   "source": [
    "import mlflow"
   ]
  },
  {
   "cell_type": "code",
   "execution_count": null,
   "id": "04c5a05b",
   "metadata": {},
   "outputs": [
    {
     "name": "stdout",
     "output_type": "stream",
     "text": [
      "tracking URI: 'file:///workspaces/mlops-campspace/02-experimentation/mlruns'\n"
     ]
    }
   ],
   "source": [
    "print(f\"tracking URI: '{mlflow.get_tracking_uri()}'\")"
   ]
  },
  {
   "cell_type": "code",
   "execution_count": null,
   "id": "2ad3bb73",
   "metadata": {},
   "outputs": [
    {
     "data": {
      "text/plain": [
       "[<Experiment: artifact_location='file:///workspaces/mlops-campspace/02-experimentation/mlruns/320289733454132756', creation_time=1748449390537, experiment_id='320289733454132756', last_update_time=1748449390537, lifecycle_stage='active', name='nyc-taxi-experiment', tags={}>,\n",
       " <Experiment: artifact_location='file:///workspaces/mlops-campspace/02-experimentation/mlruns/0', creation_time=1748449390528, experiment_id='0', last_update_time=1748449390528, lifecycle_stage='active', name='Default', tags={}>]"
      ]
     },
     "metadata": {},
     "output_type": "display_data"
    }
   ],
   "source": [
    "mlflow.search_experiments()"
   ]
  },
  {
   "cell_type": "code",
   "execution_count": null,
   "id": "e89b68b0",
   "metadata": {},
   "outputs": [],
   "source": [
    "from mlflow.tracking import MlflowClient\n",
    "\n",
    "\n",
    "client = MlflowClient()\n",
    "from mlflow.exceptions import MlflowException\n",
    "\n"
   ]
  },
  {
   "cell_type": "code",
   "execution_count": null,
   "id": "3b5a6873",
   "metadata": {},
   "outputs": [],
   "source": [
    "try:\n",
    "    client.search_registered_models()\n",
    "except MlflowException:\n",
    "    print(\"It's not possible to access the model registry :(\")"
   ]
  },
  {
   "cell_type": "code",
   "execution_count": null,
   "id": "0281049b",
   "metadata": {},
   "outputs": [],
   "source": [
    "# for setting the backend store run this command\n",
    "#mlflow server --backend-store-uri sqlite:///backend.db"
   ]
  }
 ],
 "metadata": {
  "language_info": {
   "name": "python"
  }
 },
 "nbformat": 4,
 "nbformat_minor": 5
}
